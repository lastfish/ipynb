{
 "metadata": {
  "name": "",
  "signature": "sha256:3cd530605d9880fc908a042dd2823b3f27764fb538e150509d8d61e41791419f"
 },
 "nbformat": 3,
 "nbformat_minor": 0,
 "worksheets": [
  {
   "cells": [
    {
     "cell_type": "markdown",
     "metadata": {},
     "source": [
      "# Brief Review of Progress on x-c Toggle Model"
     ]
    },
    {
     "cell_type": "markdown",
     "metadata": {},
     "source": [
      "## Model\n",
      "4-dimensional Coupled Langevin Systems:\n",
      "\n",
      "\\begin{align}\n",
      "\\dot{x}_A &=  F_{x_A}+ \\eta_{x_A} \\\\\\\\\n",
      "\\dot{x}_B &=  F_{x_B}+ \\eta_{x_B} \\\\\\\\\n",
      "\\dot{c}_A &=  F_{c_A}+ \\eta_{c_A} \\\\\\\\\n",
      "\\dot{c}_B &=  F_{c_B}+ \\eta_{c_B}\n",
      "\\end{align}\n",
      "\n",
      "where $k_i$ is redefined as $k_i V_0$ to keep the equations clean.\n",
      "This is equivalent to 4-dimensional FPE:\n",
      "\n",
      "\\begin{align}\n",
      "\\partial_t P(x, c) = -\\nabla \\cdot (\\mathbf{F} P(x, t)) + \\nabla^2 (\\mathbf{D} P(x, c) )\n",
      "\\end{align}\n",
      "\n",
      "\n",
      "The driving forces are:\n",
      "\\begin{align}\n",
      "F_{x_A} &= \\frac{1}{V_0} (g_{0A} c_A + g_{1A} (1-c_A) - k_A x_A) \\\\\\\\\n",
      "F_{x_B} &= \\frac{1}{V_0} (g_{0B} c_B + g_{1B} (1-c_B) - k_B x_B) \\\\\\\\\n",
      "F_{c_A} &= f_A(1-c_A) - \\frac{1}{2} h_A x_B^2 c_A \\\\\\\\\n",
      "F_{c_B} &= f_B(1-c_B) - \\frac{1}{2} h_B x_A^2 c_B\n",
      "\\end{align}\n",
      "\n",
      "Diffusion coefficients:\n",
      "\\begin{align}\n",
      "<\\eta_{x_A}(t) \\eta_{x_A}(t')> = 2D_{x_A x_A}\\delta(t-t') \\\\\\\\\n",
      "<\\eta_{x_B}(t) \\eta_{x_B}(t')> = 2D_{x_B x_B}\\delta(t-t') \\\\\\\\\n",
      "<\\eta_{c_A}(t) \\eta_{c_A}(t')> = 2D_{c_A c_A}\\delta(t-t') \\\\\\\\\n",
      "<\\eta_{c_B}(t) \\eta_{c_B}(t')> = 2D_{c_B c_B}\\delta(t-t')\n",
      "\\end{align}\n",
      "\n",
      "\\begin{align}\n",
      "D_{x_A x_A} &= \\frac{1}{2V_0^2} (g_{0A} c_A + g_{1A} (1-c_A) + k_A x_A) \\\\\\\\\n",
      "D_{x_B x_B} &= \\frac{1}{2V_0^2} (g_{0B} c_A + g_{1B} (1-c_B) + k_B x_B) \\\\\\\\\n",
      "D_{c_A c_A} &= \\frac{1}{2} [ f_A(1-c_A) + \\frac{1}{2} h_A x_B^2 c_A ] \\\\\\\\\n",
      "D_{c_B c_B} &= \\frac{1}{2} [ f_B(1-c_B) + \\frac{1}{2} h_B x_A^2 c_B ]\n",
      "\\end{align}"
     ]
    },
    {
     "cell_type": "markdown",
     "metadata": {},
     "source": [
      "## Parameters  \n",
      "We assume the system is symmetric in A and B:\n",
      "\n",
      "  * $k_A = k_B = k = 1$\n",
      "  * $g_{0A} = g_{0B} = g_{0} = (X_{ad} +  \\delta X)k = 80 $\n",
      "  * $g_{1A} = g_{1B} =g_1 = (X_{ad} - \\delta X) k = 0$\n",
      "  * $f_A = f_B = f = k \\omega $\n",
      "  * $h_A = h_B = f/X_{eq}$\n",
      "  * $X_{ad} = \\delta X = 40.0$\n",
      "  * $X_{eq} = \\{ 0.01, 1 100, 1500, 2500, 10000, 200000\\}$\n",
      "  * $\\omega = \\{0.01, 0.1, 1, 10, 100 \\}$\n",
      "  "
     ]
    },
    {
     "cell_type": "markdown",
     "metadata": {},
     "source": [
      "##Gillespie simulation\n",
      "Gillespie simulation results in [fig1](https://www.dropbox.com/s/do5exai8bzv3vp9/Figure_Gillispie.pdf?dl=0) \n",
      "Code is zipped in [Gillespie.zip](https://www.dropbox.com/s/bfa89pf9xp22apb/Gillespie.zip?dl=0)\n"
     ]
    },
    {
     "cell_type": "markdown",
     "metadata": {},
     "source": [
      "## Langevin Simulation\n",
      "Direct Langevin simulation, results in [fig2](https://www.dropbox.com/s/volqaqb28i20n4w/Figure_x-c.pdf?dl=0)\n",
      "Code is zipped in [Langevin.zip](https://www.dropbox.com/s/su7ud5ixat5ygnr/Langevin.zip?dl=0)"
     ]
    },
    {
     "cell_type": "markdown",
     "metadata": {},
     "source": [
      "## Adiabatic Limit Approxomation Langevin Simulation\n",
      "\n",
      "Code zipped in [Adiabatic.zip](https://www.dropbox.com/s/lqe9osfh4ztozri/Adiabatic.zip?dl=0)\n"
     ]
    },
    {
     "cell_type": "markdown",
     "metadata": {},
     "source": [
      "## Turn Over\n",
      "\n",
      "\n",
      "The stable states of x-c model can be calculated using deterministic equations:\n",
      "\n",
      "$$\n",
      "F_{x_i} = 0 \\qquad F_{c_i} = 0\n",
      "$$\n",
      "\n",
      "For most of the $(\\omega, X\\_{eq})$ regions this suggests two symmetric stable states. Calculate transition time between these stable states shows the turn over behavior. As an example we choose $X_{eq}=500$ here:\n",
      "\n",
      "The stable points are:\n",
      "<table style=\"width:100%\">\n",
      "    <th>\n",
      "        <td> &omega; </td>\n",
      "        <td> xA </td>\n",
      "        <td> xB </td>\n",
      "        <td> cA </td>\n",
      "        <td> cB </td>\n",
      "    </th>\n",
      "    <tr>\n",
      "        <td> Stable Point\n",
      "        <td> 0.01 - 100 </td>\n",
      "        <td> 15.50510257  </td>\n",
      "        <td> 64.49489743  </td>\n",
      "        <td> 0.19381378  </td>\n",
      "        <td> 0.80618622 </td>\n",
      "    </tr>\n",
      "    <tr>\n",
      "        <td> Saddle Point\n",
      "        <td> 0.01 - 100 </td>\n",
      "        <td> 35.44997828 </td>\n",
      "        <td> 35.44997828 </td>\n",
      "        <td> 0.44312473 </td>\n",
      "        <td> 0.44312473 </td>\n",
      "    </tr>\n",
      "</table>\n",
      "\n",
      "The transition time from Langevin simulation:\n",
      "  * For $\\omega = 0.01$, Average Transition Time is 155.88634 S\n",
      "  * For $\\omega = 0.1$, average transition time is 44.7616 S\n",
      "  * For $\\omega = 1.0$, average transition time is 103.770420 S\n",
      "  * For $\\omega = 10.0$, average transition time is 770.01878 S\n",
      "  * For $\\omega = 100.0$, average transition time is 57524.092299 S\n",
      "\n"
     ]
    },
    {
     "cell_type": "code",
     "collapsed": false,
     "input": [
      "import matplotlib.pyplot as plt\n",
      "import numpy as np\n",
      "fig = plt.figure()\n",
      "ax = fig.add_subplot(1,1,1)\n",
      "omega = [0.01, 0.1, 1.0, 10.0, 100.0]\n",
      "lnomega = [-2, -1, 0, 1, 2]\n",
      "T = np.array([155.88634, 44.7616, 103.77042, 770.01878, 57524.092299])\n",
      "lnT = np.log(T)\n",
      "ax.plot(lnomega,lnT, '-')\n",
      "ax.set_title('x-c Toggle MFPT')\n",
      "ax.set_xlabel(r'$\\ln\\omega$')\n",
      "ax.set_ylabel(r'$\\ln T$')"
     ],
     "language": "python",
     "metadata": {},
     "outputs": [
      {
       "metadata": {},
       "output_type": "pyout",
       "prompt_number": 4,
       "text": [
        "<matplotlib.text.Text at 0x10b96d950>"
       ]
      },
      {
       "metadata": {},
       "output_type": "display_data",
       "png": "[encoded data removed]",
       "text": [
        "<matplotlib.figure.Figure at 0x10a781bd0>"
       ]
      }
     ],
     "prompt_number": 4
    },
    {
     "cell_type": "markdown",
     "metadata": {},
     "source": [
      "On the other hand, transition time from Gillespie simulation:\n",
      "<table style=\"width:100%\">\n",
      "    <tr>\n",
      "        <td> $\\omega$ \n",
      "        <td> 0.01 \n",
      "        <td> 0.1 \n",
      "        <td> 1.0 \n",
      "        <td> 10.0 \n",
      "        <td> 100.0 \n",
      "    <tr>\n",
      "        <td> MFPT/S \n",
      "        <td> 215.841\n",
      "        <td> 54.4857\n",
      "        <td> 73.7959\n",
      "        <td> 2238.47\n",
      "        <td> 13884.8\n",
      "    <tr>\n",
      "</table>"
     ]
    },
    {
     "cell_type": "code",
     "collapsed": false,
     "input": [
      "fig = plt.figure()\n",
      "ax = fig.add_subplot(1,1,1)\n",
      "omega = [0.01, 0.1, 1.0, 10.0, 100.0]\n",
      "lnomega = [-2, -1, 0, 1, 2]\n",
      "T = np.array([215.841, 54.4857, 73.7959, 2238.47, 13884.8])\n",
      "lnT = np.log(T)\n",
      "ax.plot(lnomega,lnT, '-')\n",
      "ax.set_title('Gillespie MFPT')\n",
      "ax.set_xlabel(r'$\\ln\\omega$')\n",
      "ax.set_ylabel(r'$\\ln T$')\n"
     ],
     "language": "python",
     "metadata": {},
     "outputs": [
      {
       "metadata": {},
       "output_type": "pyout",
       "prompt_number": 3,
       "text": [
        "<matplotlib.text.Text at 0x10abca5d0>"
       ]
      },
      {
       "metadata": {},
       "output_type": "display_data",
       "png": "[encoded data removed]",
       "text": [
        "<matplotlib.figure.Figure at 0x10a781b90>"
       ]
      }
     ],
     "prompt_number": 3
    },
    {
     "cell_type": "markdown",
     "metadata": {},
     "source": [
      "However because the fluctuation of c is so large and non-controllable, the two stable peaks would merge into one at $\\omega < 0.1$. This roughly where the turn over happens. I tried different sets of parameters and the best I can get is turn-over point 0.2 and merge point 0.1. To address this issue, I put in a parameter $\\alpha$ by hand to control $\\eta_c$:\n",
      "$$\n",
      "\\dot{x} = F_x + \\eta_x \\qquad \\dot{c} = F_c + \\alpha \\eta_c\n",
      "$$\n",
      "\n",
      "This seems to work, I found:\n",
      "  * Large $\\alpha$, $\\alpha\\ge0.5$, bi-stability dissapears at large $\\omega$\n",
      "  * Small $\\alpha$ doesn't show turn over pattern.\n",
      "  * The landscapes for different $\\alpha$ are listed [here](https://www.dropbox.com/s/7e50hovyhz4w1br/Figure_alpha.pdf?dl=0). It seems it's proper to choose $\\alpha=0.3$.\n",
      "\n",
      "\n",
      "\n"
     ]
    },
    {
     "cell_type": "markdown",
     "metadata": {},
     "source": [
      "Transition times for different $\\alpha$.  \n",
      "$X_{eq} = 500$\n",
      "\n",
      "------\n",
      "|$\\omega$ | 0.01 | 0.1 | 1 | 10 | 100 |\n",
      "| ------ | ------ | ------ | ------ | ------ | ------ |\n",
      "|$\\alpha=0.1$| 7274.38 | 1073.13 | 199.966 | 116.817 | 109.892 |\n",
      "|$\\alpha=0.2$| 2002.43 | 358.618 | 138.327 | 109.516 | 106.664 |\n",
      "|$\\alpha=0.3$| 969.611 | 180.505 | 86.7706 | 89.8337 | 92.835 |\n",
      "|$\\alpha=0.4$| 549.622 | 112.041 | 56.8165 | 72.7163 | 79.9311 |\n",
      "|$\\alpha=0.5$| 364.74 | 78.1451 | 47.2187 | 81.56 | 84.6849 |\n"
     ]
    },
    {
     "cell_type": "code",
     "collapsed": false,
     "input": [
      "fig = plt.figure()\n",
      "ax = fig.add_subplot(1,1,1)\n",
      "omega = [0.01, 0.1, 1.0, 10.0, 100.0]\n",
      "lnomega = np.log10(omega)\n",
      "T1 = np.array([7274.38, 1073.13, 199.966, 116.817, 109.892])\n",
      "T2 = np.array([2002.43, 358.618, 138.327, 109.516, 106.664])\n",
      "T3 = np.array([969.611, 180.505, 86.7706, 89.8337, 92.835])\n",
      "T4 = np.array([549.622, 112.041, 56.8165, 72.7163, 79.9311])\n",
      "T5 = np.array([364.74, 78.1451, 47.2187, 81.56, 84.6849])\n",
      "lnT1, lnT2, lnT3, lnT4, lnT5 = np.log(T1), np.log(T2), np.log(T3), np.log(T4), np.log(T5)\n",
      "p1 = ax.plot(lnomega,lnT1, '-', label='a=0.1')\n",
      "p2 = ax.plot(lnomega,lnT2, '-', label='a=0.2')\n",
      "p3 = ax.plot(lnomega,lnT3, '-', label='a=0.3')\n",
      "p4 = ax.plot(lnomega,lnT4, '-', label='a=0.4')\n",
      "p5 = ax.plot(lnomega,lnT5, '-', label='a=0.5')\n",
      "handles, labels = ax.get_legend_handles_labels()\n",
      "ax.legend(handles[::-1], labels[::-1])\n",
      "ax.set_title('alpha mediated MFPT')\n",
      "ax.set_xlabel(r'$\\ln\\omega$')\n",
      "ax.set_ylabel(r'$\\ln T$')"
     ],
     "language": "python",
     "metadata": {},
     "outputs": [
      {
       "metadata": {},
       "output_type": "pyout",
       "prompt_number": 9,
       "text": [
        "<matplotlib.text.Text at 0x10bf62f90>"
       ]
      },
      {
       "metadata": {},
       "output_type": "display_data",
       "png": "[encoded data removed]",
       "text": [
        "<matplotlib.figure.Figure at 0x10abd44d0>"
       ]
      }
     ],
     "prompt_number": 9
    },
    {
     "cell_type": "markdown",
     "metadata": {},
     "source": [
      "\n"
     ]
    }
   ],
   "metadata": {}
  }
 ]
}
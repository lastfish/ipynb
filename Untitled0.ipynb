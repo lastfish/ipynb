{
 "metadata": {
  "name": "",
  "signature": "sha256:a954ae13c768ab4358f85f9c77d3b1a2f6487ff9c5bdb49a749fe0d41b47adee"
 },
 "nbformat": 3,
 "nbformat_minor": 0,
 "worksheets": [
  {
   "cells": [
    {
     "cell_type": "markdown",
     "metadata": {},
     "source": [
      "#Stable Points for x-c Toggle Switch model"
     ]
    },
    {
     "cell_type": "heading",
     "level": 3,
     "metadata": {},
     "source": [
      "Dynamics in 4 dimensional x-c space:"
     ]
    },
    {
     "cell_type": "markdown",
     "metadata": {},
     "source": [
      "$$\n",
      "    \\dot{x}_A = F_{xA} + \\eta_{xA} \\\\\n",
      "    \\dot{x}_B = F_{xB} + \\eta_{xB} \\\\\n",
      "    \\dot{c}_A = F_{cA} + \\eta_{cA} \\\\\n",
      "    \\dot{c}_B = F_{cB} + \\eta_{cB}\n",
      "$$"
     ]
    },
    {
     "cell_type": "markdown",
     "metadata": {},
     "source": [
      "With drifing forces and diffusion coefficients:\n",
      "$$\n",
      "    F_{xA} = g_{1A}c_A + g_{1A}(1-c_A) - k x_A \\\\\n",
      "    F_{xB} = g_{1B}c_B + g_{1B}(1-c_B) - k x_B \\\\\n",
      "    F_{cA} = f_A (1-c_A) -h_A c_A \\\\\n",
      "    F_{cB} = f_B (1-c_B) -h_B c_B \\\\\n",
      "    <\\eta_{xA}(t) \\eta_{xA}(t')> = \\delta(t-t') [g_{1A} + g_{1A}(1-c_A) + k x_A] \\\\\n",
      "    <\\eta_{xB}(t) \\eta_{xB}(t')> = \\delta(t-t') [g_{1B} + g_{1B}(1-c_B) + k x_B] \\\\\n",
      "    <\\eta_{cA}(t) \\eta_{cA}(t')> = \\delta(t-t') [f_A (1-c_A) + h_A c_A] \\\\\n",
      "    <\\eta_{cB}(t) \\eta_{cB}(t')> = \\delta(t-t') [f_B (1-c_B) + h_B c_B] \\\\\n",
      "    h_A = \\frac{1}{2} h x_B^2 \\quad h_B = \\frac{1}{2} h x_A^2\n",
      "$$"
     ]
    },
    {
     "cell_type": "heading",
     "level": 3,
     "metadata": {},
     "source": [
      "Parameteres we use:"
     ]
    },
    {
     "cell_type": "markdown",
     "metadata": {},
     "source": [
      "<ul>\n",
      "    <li> Xad = 40, $\\delta X$ = 40, Xeq = 500; </li>\n",
      "    <li> $g_{1A} = g_{1B} = g_1 = 80$,  $g_{0A} = g_{0B} = g_0 = 0$, k=1, f = $\\omega$ , h = f/Xeq; </li>\n",
      "    <li> &omega; from 0.01 to 100.0 </li>\n",
      "</ul>"
     ]
    },
    {
     "cell_type": "markdown",
     "metadata": {},
     "source": [
      "<table style=\"width:100%\">\n",
      "    <th>\n",
      "        <td> &omega; </td>\n",
      "        <td> xA </td>\n",
      "        <td> xB </td>\n",
      "        <td> cA </td>\n",
      "        <td> cB </td>\n",
      "    </th>\n",
      "    <tr>\n",
      "        <td> Stable Point\n",
      "        <td> 0.01 - 100 </td>\n",
      "        <td> 15.50510257  </td>\n",
      "        <td> 64.49489743  </td>\n",
      "        <td> 0.19381378  </td>\n",
      "        <td> 0.80618622 </td>\n",
      "    </tr>\n",
      "    <tr>\n",
      "        <td> Saddle Point\n",
      "        <td> 0.01 - 100 </td>\n",
      "        <td> 35.44997828 </td>\n",
      "        <td> 35.44997828 </td>\n",
      "        <td> 0.44312473 </td>\n",
      "        <td> 0.44312473 </td>\n",
      "    </tr>\n",
      "</table>"
     ]
    },
    {
     "cell_type": "heading",
     "level": 3,
     "metadata": {},
     "source": [
      "Results from Langevin simulation:"
     ]
    },
    {
     "cell_type": "markdown",
     "metadata": {},
     "source": [
      "For $\\omega = 0.01$, Average Transition Time is 155.88634 S"
     ]
    },
    {
     "cell_type": "markdown",
     "metadata": {},
     "source": [
      "For $\\omega = 0.1$, average transition time is 44.7616 S"
     ]
    },
    {
     "cell_type": "markdown",
     "metadata": {},
     "source": [
      "For $\\omega = 1.0$, average transition time is 103.770420 S"
     ]
    },
    {
     "cell_type": "markdown",
     "metadata": {},
     "source": [
      "For $\\omega = 10.0$, average transition time is 770.01878 S"
     ]
    },
    {
     "cell_type": "markdown",
     "metadata": {},
     "source": [
      "For $\\omega = 100.0$, average transition time is 57524.092299 S"
     ]
    },
    {
     "cell_type": "code",
     "collapsed": false,
     "input": [
      "import matplotlib.pyplot as plt\n",
      "import numpy as np\n",
      "fig = plt.figure()\n",
      "ax = fig.add_subplot(1,1,1)\n",
      "omega = [0.01, 0.1, 1.0, 10.0, 100.0]\n",
      "lnomega = [-2, -1, 0, 1, 2]\n",
      "T = np.array([155.88634, 44.7616, 103.77042, 770.01878, 57524.092299])\n",
      "lnT = np.log(T)\n",
      "ax.plot(lnomega,lnT, '-')\n",
      "ax.set_title('MFPT')\n",
      "ax.set_xlabel(r'$\\ln\\omega$')\n",
      "ax.set_ylabel(r'$\\ln T$')"
     ],
     "language": "python",
     "metadata": {},
     "outputs": [
      {
       "metadata": {},
       "output_type": "pyout",
       "prompt_number": 5,
       "text": [
        "<matplotlib.text.Text at 0x10b7b0650>"
       ]
      },
      {
       "metadata": {},
       "output_type": "display_data",
       "png": "[encoded data removed]",
       "text": [
        "<matplotlib.figure.Figure at 0x10b2cd810>"
       ]
      }
     ],
     "prompt_number": 5
    },
    {
     "cell_type": "heading",
     "level": 1,
     "metadata": {},
     "source": [
      "Results from Gillispie Simulation"
     ]
    },
    {
     "cell_type": "markdown",
     "metadata": {},
     "source": [
      "<table style=\"width:100%\">\n",
      "    <tr>\n",
      "        <td> $\\omega$ \n",
      "        <td> 0.01 \n",
      "        <td> 0.1 \n",
      "        <td> 1.0 \n",
      "        <td> 10.0 \n",
      "        <td> 100.0 \n",
      "    <tr>\n",
      "        <td> MFPT/S \n",
      "        <td> 215.841\n",
      "        <td> 54.4857\n",
      "        <td> 73.7959\n",
      "        <td> 2238.47\n",
      "        <td> 13884.8\n",
      "    <tr>\n",
      "</table>\n",
      "    "
     ]
    },
    {
     "cell_type": "code",
     "collapsed": false,
     "input": [
      "import matplotlib.pyplot as plt\n",
      "import numpy as np\n",
      "fig = plt.figure()\n",
      "ax = fig.add_subplot(1,1,1)\n",
      "omega = [0.01, 0.1, 1.0, 10.0, 100.0]\n",
      "lnomega = [-2, -1, 0, 1, 2]\n",
      "T = np.array([215.841, 54.4857, 73.7959, 2238.47, 13884.8])\n",
      "lnT = np.log(T)\n",
      "ax.plot(lnomega,lnT, '-')\n",
      "ax.set_title('Gillispie MFPT')\n",
      "ax.set_xlabel(r'$\\ln\\omega$')\n",
      "ax.set_ylabel(r'$\\ln T$')"
     ],
     "language": "python",
     "metadata": {},
     "outputs": [
      {
       "metadata": {},
       "output_type": "pyout",
       "prompt_number": 6,
       "text": [
        "<matplotlib.text.Text at 0x10b2d0150>"
       ]
      },
      {
       "metadata": {},
       "output_type": "display_data",
       "png": "[encoded data removed]",
       "text": [
        "<matplotlib.figure.Figure at 0x10b790fd0>"
       ]
      }
     ],
     "prompt_number": 6
    },
    {
     "cell_type": "code",
     "collapsed": false,
     "input": [],
     "language": "python",
     "metadata": {},
     "outputs": []
    }
   ],
   "metadata": {}
  }
 ]
}